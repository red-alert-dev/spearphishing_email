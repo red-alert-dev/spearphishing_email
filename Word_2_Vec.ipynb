{
  "nbformat": 4,
  "nbformat_minor": 0,
  "metadata": {
    "kernelspec": {
      "display_name": "Python 3",
      "language": "python",
      "name": "python3"
    },
    "language_info": {
      "codemirror_mode": {
        "name": "ipython",
        "version": 3
      },
      "file_extension": ".py",
      "mimetype": "text/x-python",
      "name": "python",
      "nbconvert_exporter": "python",
      "pygments_lexer": "ipython3",
      "version": "3.7.4"
    },
    "colab": {
      "name": "Word_2_Vec.ipynb",
      "provenance": [],
      "toc_visible": true
    },
    "accelerator": "GPU"
  },
  "cells": [
    {
      "cell_type": "code",
      "metadata": {
        "id": "xzRbw7MBA_Pd"
      },
      "source": [
        ""
      ],
      "execution_count": null,
      "outputs": []
    },
    {
      "cell_type": "code",
      "metadata": {
        "id": "0guXqcdR_f9K"
      },
      "source": [
        "import numpy as np\n",
        "from IPython.display import display, HTML\n",
        "import matplotlib.pyplot as plt\n",
        "import pickle\n",
        "from sklearn.manifold import TSNE\n",
        "import pandas as pd\n",
        "import re\n",
        "import nltk \n",
        "nltk.download('stopwords')\n",
        "from nltk.corpus import stopwords\n",
        "stop_words = set(stopwords.words('english')) \n",
        "nltk.download('wordnet')\n",
        "from google.colab import drive\n",
        "drive.mount('/content/drive')"
      ],
      "execution_count": null,
      "outputs": []
    },
    {
      "cell_type": "markdown",
      "metadata": {
        "id": "8gQY0HYL_f9Z"
      },
      "source": [
        "# Read data from file "
      ]
    },
    {
      "cell_type": "code",
      "metadata": {
        "id": "QUxGW3BwB7MS"
      },
      "source": [
        "# df1=pd.read_csv('drive/MyDrive/CDAC/Rishabh/Attempt1/at23/data2.csv')\n",
        "# df2=pd.read_csv('drive/MyDrive/CDAC/Rishabh/Attempt1/at23/data3.csv')\n",
        "# data=pd.concat([df,df1,df2],ignore_index=True)\n",
        "# data=data['Body']\n",
        "# # data=data.dropna(inplace=True)\n",
        "# data.shape"
      ],
      "execution_count": null,
      "outputs": []
    },
    {
      "cell_type": "code",
      "metadata": {
        "id": "XI8soqNDFVv_"
      },
      "source": [
        "# data2=data\n",
        "# body_length=[]\n",
        "# for body in data2['Body']:\n",
        "#   body_length.append(len(body))\n",
        "\n",
        "# data2['body_length']=body_length\n",
        "# data.head()"
      ],
      "execution_count": null,
      "outputs": []
    },
    {
      "cell_type": "code",
      "metadata": {
        "id": "6wGYIYVjB7ne"
      },
      "source": [
        "df=pd.read_csv('drive/MyDrive/CDAC/Rishabh/Attempt1/at23/data1.csv')\n",
        "data=df[1:100]\n",
        "data=data['Body']                                                               #shape=[99]\n",
        "data.columns=['Body']\n",
        "data=pd.DataFrame(data)\n",
        "data"
      ],
      "execution_count": null,
      "outputs": []
    },
    {
      "cell_type": "markdown",
      "metadata": {
        "id": "wM_ReDmS8HjE"
      },
      "source": [
        "##Cleaning Data"
      ]
    },
    {
      "cell_type": "code",
      "metadata": {
        "id": "J6kQavTLHHqS"
      },
      "source": [
        "from nltk.stem import WordNetLemmatizer\n",
        "\n",
        "data2=data\n",
        "corpus=[]\n",
        "lemmatizer=WordNetLemmatizer()\n",
        "\n",
        "for body in data2['Body']:\n",
        "  removed_newline_tab=re.sub('[\\n|\\t]',' ',body)\n",
        "  removed_sub=re.sub('Subject: ',' ',removed_newline_tab)\n",
        "  removed_spchar=re.sub('[^a-zA-z]',' ',removed_sub)\n",
        "\n",
        "  lower_cased=removed_spchar.lower()\n",
        "  tokenized_email=lower_cased.split()\n",
        "\n",
        "  filtered_words=[word for word in tokenized_email if word not in stopwords.words('english')]\n",
        "  lemmatized_email=[lemmatizer.lemmatize(word) for word in filtered_words]\n",
        "\n",
        "  body=' '.join(lemmatized_email)\n",
        "  corpus.append(body)\n",
        "  corpus"
      ],
      "execution_count": null,
      "outputs": []
    },
    {
      "cell_type": "code",
      "metadata": {
        "id": "K5jEMgP-HTGT"
      },
      "source": [
        "with open('drive/MyDrive/CDAC/Rishabh/Attempt1/at23/corpus.pickle','rb') as f:\n",
        "  text_og=pickle.load(f)\n",
        "text_og=corpus\n",
        "len(text_og)"
      ],
      "execution_count": null,
      "outputs": []
    },
    {
      "cell_type": "code",
      "metadata": {
        "id": "ez68KuNY_f9a"
      },
      "source": [
        "# def get_file_data(stop_word_removal='no'):\n",
        "#     file_contents = []\n",
        "#     with open('jef_archer.txt') as f:\n",
        "#         file_contents = f.read()\n",
        "#     text = []\n",
        "#     for val in file_contents.split('.'):\n",
        "#         sent = re.findall(\"[A-Za-z]+\", val)\n",
        "#         line = ''\n",
        "#         for words in sent:\n",
        "            \n",
        "#             if stop_word_removal == 'yes': \n",
        "#                 if len(words) > 1 and words not in stop_words:\n",
        "#                     line = line + ' ' + words\n",
        "#             else:\n",
        "#                 if len(words) > 1 :\n",
        "#                     line = line + ' ' + words\n",
        "#         text.append(line)\n",
        "#     return text"
      ],
      "execution_count": null,
      "outputs": []
    },
    {
      "cell_type": "markdown",
      "metadata": {
        "id": "jgOKUxoj_f9d"
      },
      "source": [
        "# Generate variables "
      ]
    },
    {
      "cell_type": "markdown",
      "metadata": {
        "id": "TlfwqYkj_f9e"
      },
      "source": [
        "    word_to_index : A dictionary mapping each word to an integer value {'modern': 0, 'humans': 1}\n",
        "\n",
        "    index_to_word : A dictionary mapping each word to an integer value {0: 'modern', 1: 'humans'}\n",
        "\n",
        "    corpus  : The entire data consisting of all the words\n",
        "\n",
        "    vocab_size : Number of unique words in the corpus"
      ]
    },
    {
      "cell_type": "code",
      "metadata": {
        "id": "NzghtgR6_f9g"
      },
      "source": [
        "def generate_dictinoary_data(text):\n",
        "    word_to_index= dict()\n",
        "    index_to_word = dict()\n",
        "    corpus = []\n",
        "    count = 0\n",
        "    vocab_size = 0\n",
        "    \n",
        "    for row in text:\n",
        "        for word in row.split():\n",
        "            word = word.lower()\n",
        "            corpus.append(word)\n",
        "            if word_to_index.get(word) == None:\n",
        "                word_to_index.update ( {word : count})\n",
        "                index_to_word.update ( {count : word })\n",
        "                count  += 1\n",
        "    vocab_size = len(word_to_index)\n",
        "    length_of_corpus = len(corpus)\n",
        "    \n",
        "    return word_to_index,index_to_word,corpus,vocab_size,length_of_corpus"
      ],
      "execution_count": null,
      "outputs": []
    },
    {
      "cell_type": "code",
      "metadata": {
        "id": "YG4cBO7aQ17d"
      },
      "source": [
        "top_n_words = 5\n"
      ],
      "execution_count": null,
      "outputs": []
    },
    {
      "cell_type": "code",
      "metadata": {
        "colab": {
          "base_uri": "https://localhost:8080/"
        },
        "id": "jr0--gVMQAp1",
        "outputId": "d51e6806-914c-4c13-cf5e-00ddd4b87252"
      },
      "source": [
        "# text = get_file_data('yes')\n",
        "word_to_index,index_to_word,corpus,vocab_size,length_of_corpus = generate_dictinoary_data(text_og)\n",
        "print('Number of unique words:' , vocab_size)\n",
        "print('Length of corpus :',length_of_corpus)\n",
        "words_subset = []\n",
        "words_subset = np.random.choice(list(word_to_index.keys()),top_n_words)\n",
        "print(words_subset)"
      ],
      "execution_count": null,
      "outputs": [
        {
          "output_type": "stream",
          "text": [
            "Number of unique words: 5107\n",
            "Length of corpus : 13604\n",
            "['reference' 'k' 'moved' 'familiar' 'pixel']\n"
          ],
          "name": "stdout"
        }
      ]
    },
    {
      "cell_type": "markdown",
      "metadata": {
        "id": "TU7hd7ip_f9i"
      },
      "source": [
        "Example: "
      ]
    },
    {
      "cell_type": "code",
      "metadata": {
        "id": "Qq9EOVIl_f9j",
        "colab": {
          "base_uri": "https://localhost:8080/"
        },
        "outputId": "a6e42fff-b1e3-46c6-d7f2-22705567815b"
      },
      "source": [
        "text = ['Best way to success is through hardwork and persistence']\n",
        "word_to_index,index_to_word,corpus,vocab_size,length_of_corpus = generate_dictinoary_data(text)\n",
        "print('Number of unique words:' , vocab_size)\n",
        "print('word_to_index : ',word_to_index)\n",
        "print('index_to_word : ',index_to_word)\n",
        "print('corpus:',corpus)\n",
        "print('Length of corpus :',length_of_corpus)"
      ],
      "execution_count": null,
      "outputs": [
        {
          "output_type": "stream",
          "text": [
            "Number of unique words: 9\n",
            "word_to_index :  {'best': 0, 'way': 1, 'to': 2, 'success': 3, 'is': 4, 'through': 5, 'hardwork': 6, 'and': 7, 'persistence': 8}\n",
            "index_to_word :  {0: 'best', 1: 'way', 2: 'to', 3: 'success', 4: 'is', 5: 'through', 6: 'hardwork', 7: 'and', 8: 'persistence'}\n",
            "corpus: ['best', 'way', 'to', 'success', 'is', 'through', 'hardwork', 'and', 'persistence']\n",
            "Length of corpus : 9\n"
          ],
          "name": "stdout"
        }
      ]
    },
    {
      "cell_type": "markdown",
      "metadata": {
        "id": "UaBRszWO_f9o"
      },
      "source": [
        "# Generate training data "
      ]
    },
    {
      "cell_type": "markdown",
      "metadata": {
        "id": "555Wz7JA_f9q"
      },
      "source": [
        "The training data is in the following format :\n",
        "\n",
        "Example:\n",
        "\n",
        "    Window size = 2, Vocab size = 9\n",
        "\n",
        "\n",
        "    We will set the indicies as 1 according to the word_to_index dict i.e natural : 0,  so we set the 0th index as 1 to denote natural\n",
        "\n",
        "    Target word = best    \n",
        "    Context words = (way,to)\n",
        "    Target_word_one_hot_vector = [1, 0, 0, 0, 0, 0, 0, 0, 0]\n",
        "    Context_word_one_hot_vector = [0, 1, 1, 0, 0, 0, 0, 0, 0]\n",
        "    \n",
        "    Target word = way    \n",
        "    Context words = (best,to,success)\n",
        "    Target_word_one_hot_vector = [0, 1, 0, 0, 0, 0, 0, 0, 0]\n",
        "    Context_word_one_hot_vector= [1, 0, 1, 1, 0, 0, 0, 0, 0]\n",
        "    "
      ]
    },
    {
      "cell_type": "code",
      "metadata": {
        "id": "z8GwjSD6HExZ"
      },
      "source": [
        ""
      ],
      "execution_count": null,
      "outputs": []
    },
    {
      "cell_type": "code",
      "metadata": {
        "id": "zGR1Ya7a_f9s"
      },
      "source": [
        "def get_one_hot_vectors(target_word,context_words,vocab_size,word_to_index):\n",
        "    \n",
        "    #Create an array of size = vocab_size filled with zeros\n",
        "    trgt_word_vector = np.zeros(vocab_size)\n",
        "    \n",
        "    #Get the index of the target_word according to the dictionary word_to_index. \n",
        "    #If target_word = best, the index according to the dictionary word_to_index is 0. \n",
        "    #So the one hot vector will be [1, 0, 0, 0, 0, 0, 0, 0, 0]\n",
        "    index_of_word_dictionary = word_to_index.get(target_word) \n",
        "    \n",
        "    #Set the index to 1\n",
        "    trgt_word_vector[index_of_word_dictionary] = 1\n",
        "    \n",
        "    #Repeat same steps for context_words but in a loop\n",
        "    ctxt_word_vector = np.zeros(vocab_size)\n",
        "    \n",
        "    \n",
        "    for word in context_words:\n",
        "        index_of_word_dictionary = word_to_index.get(word) \n",
        "        ctxt_word_vector[index_of_word_dictionary] = 1\n",
        "        \n",
        "    return trgt_word_vector,ctxt_word_vector"
      ],
      "execution_count": null,
      "outputs": []
    },
    {
      "cell_type": "code",
      "metadata": {
        "scrolled": true,
        "id": "bpIyVYkU_f9u"
      },
      "source": [
        "#Note : Below comments for trgt_word_index, ctxt_word_index are with the above sample text for understanding the code flow\n",
        "\n",
        "def generate_training_data(corpus,window_size,vocab_size,word_to_index,length_of_corpus,sample=None):\n",
        "\n",
        "    training_data =  []\n",
        "    training_sample_words =  []\n",
        "    for i,word in enumerate(corpus):\n",
        "\n",
        "        index_target_word = i\n",
        "        target_word = word\n",
        "        context_words = []\n",
        "\n",
        "        #when target word is the first word\n",
        "        if i == 0:  \n",
        "\n",
        "            # trgt_word_index:(0), ctxt_word_index:(1,2)\n",
        "            context_words = [corpus[x] for x in range(i + 1 , window_size + 1)] \n",
        "\n",
        "\n",
        "        #when target word is the last word\n",
        "        elif i == len(corpus)-1:\n",
        "\n",
        "            # trgt_word_index:(9), ctxt_word_index:(8,7), length_of_corpus = 10\n",
        "            context_words = [corpus[x] for x in range(length_of_corpus - 2 ,length_of_corpus -2 - window_size  , -1 )]\n",
        "\n",
        "        #When target word is the middle word\n",
        "        else:\n",
        "\n",
        "            #Before the middle target word\n",
        "            before_target_word_index = index_target_word - 1\n",
        "            for x in range(before_target_word_index, before_target_word_index - window_size , -1):\n",
        "                if x >=0:\n",
        "                    context_words.extend([corpus[x]])\n",
        "\n",
        "            #After the middle target word\n",
        "            after_target_word_index = index_target_word + 1\n",
        "            for x in range(after_target_word_index, after_target_word_index + window_size):\n",
        "                if x < len(corpus):\n",
        "                    context_words.extend([corpus[x]])\n",
        "\n",
        "\n",
        "        trgt_word_vector,ctxt_word_vector = get_one_hot_vectors(target_word,context_words,vocab_size,word_to_index)\n",
        "        training_data.append([trgt_word_vector,ctxt_word_vector])   \n",
        "        \n",
        "        if sample is not None:\n",
        "            training_sample_words.append([target_word,context_words])   \n",
        "        \n",
        "    return training_data,training_sample_words"
      ],
      "execution_count": null,
      "outputs": []
    },
    {
      "cell_type": "markdown",
      "metadata": {
        "id": "aIpJ-Rz-_f9y"
      },
      "source": [
        "Example:"
      ]
    },
    {
      "cell_type": "code",
      "metadata": {
        "id": "TFeNiSkg_f9z"
      },
      "source": [
        "text = ['Best way to success is through hardwork and persistence']\n",
        "word_to_index,index_to_word,corpus,vocab_size,length_of_corpus = generate_dictinoary_data(text)"
      ],
      "execution_count": null,
      "outputs": []
    },
    {
      "cell_type": "code",
      "metadata": {
        "id": "vhOmwFJr_f90"
      },
      "source": [
        "window_size = 2\n",
        "training_data,training_sample_words = generate_training_data(corpus,2,vocab_size,word_to_index,length_of_corpus,'yes')"
      ],
      "execution_count": null,
      "outputs": []
    },
    {
      "cell_type": "code",
      "metadata": {
        "scrolled": true,
        "id": "wf1ylQOo_f92"
      },
      "source": [
        "for i in range(len(training_data)):\n",
        "    print('*' * 50)\n",
        "    print('Target word:%s . Target vector: %s ' %(training_sample_words[i][0],training_data[i][0]))\n",
        "    print('Context word:%s . Context  vector: %s ' %(training_sample_words[i][1],training_data[i][1]))"
      ],
      "execution_count": null,
      "outputs": []
    },
    {
      "cell_type": "markdown",
      "metadata": {
        "id": "mNXMASEs_f94"
      },
      "source": [
        "# Forward_back_prop  "
      ]
    },
    {
      "cell_type": "code",
      "metadata": {
        "id": "c9fzx2zd_f95"
      },
      "source": [
        "def forward_prop(weight_inp_hidden,weight_hidden_output,target_word_vector):\n",
        "    \n",
        "    #target_word_vector = x , weight_inp_hidden =  weights for input layer to hidden layer  \n",
        "    hidden_layer = np.dot(weight_inp_hidden.T, target_word_vector)\n",
        "    \n",
        "    #weight_hidden_output = weights for hidden layer to output layer\n",
        "    u = np.dot(weight_hidden_output.T, hidden_layer)\n",
        "    \n",
        "    y_predicted = softmax(u)\n",
        "    \n",
        "    return y_predicted, hidden_layer, u\n",
        "  \n",
        "def softmax(x):\n",
        "    e_x = np.exp(x - np.max(x))\n",
        "    return e_x / e_x.sum(axis=0)\n"
      ],
      "execution_count": null,
      "outputs": []
    },
    {
      "cell_type": "code",
      "metadata": {
        "id": "lDXGN_hn_f97"
      },
      "source": [
        "def backward_prop(weight_inp_hidden,weight_hidden_output,total_error, hidden_layer, target_word_vector,learning_rate):\n",
        "    \n",
        "    dl_weight_inp_hidden = np.outer(target_word_vector, np.dot(weight_hidden_output, total_error.T))\n",
        "    dl_weight_hidden_output = np.outer(hidden_layer, total_error)\n",
        "    \n",
        "    # Update weights\n",
        "    weight_inp_hidden = weight_inp_hidden - (learning_rate * dl_weight_inp_hidden)\n",
        "    weight_hidden_output = weight_hidden_output - (learning_rate * dl_weight_hidden_output)\n",
        "    \n",
        "    return weight_inp_hidden,weight_hidden_output"
      ],
      "execution_count": null,
      "outputs": []
    },
    {
      "cell_type": "markdown",
      "metadata": {
        "id": "WHc3iLhK_f98"
      },
      "source": [
        "# Loss and error calculation "
      ]
    },
    {
      "cell_type": "markdown",
      "metadata": {
        "id": "qqkOP19V_f99"
      },
      "source": [
        "<h4> Error calculation : This is backpropogated to update the weights for the next iteration </h4>\n",
        "\n",
        "Example: below if we have 2 context words. These are not actual values. \n",
        "\n",
        "These are just for showing how the error is calculated\n",
        "\n",
        "context_words = [1 0 0 1 0]\n",
        "\n",
        "y_pred = [9 6 5 4 2]\n",
        "\n",
        "So if we break the context_word vector : [1 0 0 0 0] and [0 0 0 1 0] . 1 at index 0 and 3\n",
        "\n",
        "    The error should be calculated as :\n",
        "\n",
        "    diff_1 = y_pred - context_word_vector_1 = [9 6 5 4 2] - [1 0 0 0 0] = [8 6 5 4 2]\n",
        "\n",
        "    diff_2 = y_pred - context_word_vector_2 = [9 6 5 4 2] - [0 0 0 1 0] = [9 6 5 3 2]\n",
        "    \n",
        "    Total_error = diff_1 + diff_2(column_wise) = [17 12 10 7 4]\n",
        "    \n",
        "    Since our context vector has only 1 array , we implement the above as:\n",
        "    \n",
        "    index_of_1_in_context_words ->\n",
        "        A dictionary which has the index of 1's in the context_word_vector -> {0: 'yes', 3: 'yes'}\n",
        "    \n",
        "    number_of_1_in_context_vector -> A count for the above -> 2\n",
        "    \n",
        "    We loop the y_pred array and do the calculations as:\n",
        "    \n",
        "    for i,value in enumerate(y_p):\n",
        "    \n",
        "         if the ith index of y_pred has a 1 in context_word_vector:\n",
        "             total_error[i]  -> i:0 . y_pred[i]:9.  -> (9-1) + (1*9) -> error_calculated: 17\n",
        "             total_error[i]  -> i:3 . y_pred[i]:4.  -> (4-1) + (1*4) -> error_calculated: 7\n",
        "\n",
        "        else:\n",
        "         \n",
        "            total_error[i]  -> i:1 . y_pred[i]:6.  -> 6*2 -> error_calculated: 12\n",
        "            total_error[i]  -> i:2 . y_pred[i]:5.  -> 5*2 -> error_calculated: 10\n",
        "            total_error[i]  -> i:4 . y_pred[i]:2.  -> 2*2 -> error_calculated: 4\n",
        "    \n",
        "    total_error  ->  [17 12 10 7 4]"
      ]
    },
    {
      "cell_type": "code",
      "metadata": {
        "id": "wLifMtp1_f-A"
      },
      "source": [
        "def calculate_error(y_pred,context_words):\n",
        "    \n",
        "    total_error = [None] * len(y_pred)\n",
        "    index_of_1_in_context_words = {}\n",
        "    \n",
        "    for index in np.where(context_words == 1)[0]:\n",
        "        index_of_1_in_context_words.update ( {index : 'yes'} )\n",
        "        \n",
        "    number_of_1_in_context_vector = len(index_of_1_in_context_words)\n",
        "    \n",
        "    for i,value in enumerate(y_pred):\n",
        "        \n",
        "        if index_of_1_in_context_words.get(i) != None:\n",
        "            total_error[i]= (value-1) + ( (number_of_1_in_context_vector -1) * value)\n",
        "        else:\n",
        "            total_error[i]= (number_of_1_in_context_vector * value)\n",
        "            \n",
        "            \n",
        "    return  np.array(total_error)"
      ],
      "execution_count": null,
      "outputs": []
    },
    {
      "cell_type": "markdown",
      "metadata": {
        "id": "1_ZRV1QG_f-C"
      },
      "source": [
        "<h4> Loss calculation: This is the loss after each iteration i.e for target word, how well did we predict the context words </h4>\n",
        "\n",
        "    u : [ 0.3831286   0.89608496  2.69426738 -1.60230182  0.45482701  0.73644591 1.10365796  1.1675781  -0.78555069]\n",
        "\n",
        "    context: [0, 1, 1, 0, 0, 0, 0, 0, 0]\n",
        "\n",
        "    sum_1 = -(0.89608496 + 2.69426738)\n",
        "\n",
        "    sum_2 = number_of_context_words * np.log(np.sum(np.exp(u)))\n",
        "\n",
        "    total_loss = sum_1 + sum_2"
      ]
    },
    {
      "cell_type": "code",
      "metadata": {
        "id": "OVzZLQY4_f-D"
      },
      "source": [
        "def calculate_loss(u,ctx):\n",
        "    \n",
        "    sum_1 = 0\n",
        "    for index in np.where(ctx==1)[0]:\n",
        "        sum_1 = sum_1 + u[index]\n",
        "    \n",
        "    sum_1 = -sum_1\n",
        "    sum_2 = len(np.where(ctx==1)[0]) * np.log(np.sum(np.exp(u)))\n",
        "    \n",
        "    total_loss = sum_1 + sum_2\n",
        "    return total_loss"
      ],
      "execution_count": null,
      "outputs": []
    },
    {
      "cell_type": "markdown",
      "metadata": {
        "id": "QP92jOxA_f-F"
      },
      "source": [
        "# Model training "
      ]
    },
    {
      "cell_type": "code",
      "metadata": {
        "id": "3hWMjt_d_f-F"
      },
      "source": [
        "def train(word_embedding_dimension,window_size,epochs,training_data,learning_rate,disp = 'no',interval=-1):\n",
        "    \n",
        "    weights_input_hidden = np.random.uniform(-1, 1, (vocab_size, word_embedding_dimension))\n",
        "    weights_hidden_output = np.random.uniform(-1, 1, (word_embedding_dimension, vocab_size))\n",
        "    \n",
        "    \n",
        "    #For analysis purposes\n",
        "    epoch_loss = []\n",
        "    weights_1 = []\n",
        "    weights_2 = []\n",
        "    \n",
        "    for epoch in range(epochs):\n",
        "        loss = 0\n",
        "\n",
        "        for target,context in training_data:\n",
        "            y_pred, hidden_layer, u = forward_prop(weights_input_hidden,weights_hidden_output,target)\n",
        "\n",
        "            total_error = calculate_error(y_pred, context)\n",
        "\n",
        "            weights_input_hidden,weights_hidden_output = backward_prop(\n",
        "                weights_input_hidden,weights_hidden_output ,total_error, hidden_layer, target,learning_rate\n",
        "            )\n",
        "\n",
        "            loss_temp = calculate_loss(u,context)\n",
        "            loss += loss_temp\n",
        "        \n",
        "        epoch_loss.append( loss )\n",
        "        weights_1.append(weights_input_hidden)\n",
        "        weights_2.append(weights_hidden_output)\n",
        "        \n",
        "        if disp == 'yes':\n",
        "            if epoch ==0 or epoch % interval ==0 or epoch == epochs -1:\n",
        "                print('Epoch: %s. Loss:%s' %(epoch,loss))\n",
        "    return epoch_loss,np.array(weights_1),np.array(weights_2)"
      ],
      "execution_count": null,
      "outputs": []
    },
    {
      "cell_type": "markdown",
      "metadata": {
        "id": "iH-pmvTD_f-H"
      },
      "source": [
        "# Model Inference"
      ]
    },
    {
      "cell_type": "markdown",
      "metadata": {
        "id": "ozROEaxP_f-I"
      },
      "source": [
        "<h4> Distance measure between vectors </h4>"
      ]
    },
    {
      "cell_type": "code",
      "metadata": {
        "id": "v0rUF3OR_f-J"
      },
      "source": [
        "# Input vector, returns nearest word(s)\n",
        "def cosine_similarity(word,weight,word_to_index,vocab_size,index_to_word):\n",
        "    \n",
        "    #Get the index of the word from the dictionary\n",
        "    index = word_to_index[word]\n",
        "    \n",
        "    #Get the correspondin weights for the word\n",
        "    word_vector_1 = weight[index]\n",
        "    \n",
        "    \n",
        "    word_similarity = {}\n",
        "\n",
        "    for i in range(vocab_size):\n",
        "        \n",
        "        word_vector_2 = weight[i]\n",
        "        \n",
        "        theta_sum = np.dot(word_vector_1, word_vector_2)\n",
        "        theta_den = np.linalg.norm(word_vector_1) * np.linalg.norm(word_vector_2)\n",
        "        theta = theta_sum / theta_den\n",
        "        \n",
        "        word = index_to_word[i]\n",
        "        word_similarity[word] = theta\n",
        "    \n",
        "    return word_similarity #words_sorted"
      ],
      "execution_count": null,
      "outputs": []
    },
    {
      "cell_type": "markdown",
      "metadata": {
        "id": "93zEfqhv_f-K"
      },
      "source": [
        "<h4> Print a matrix of similar words </h4>"
      ]
    },
    {
      "cell_type": "code",
      "metadata": {
        "id": "On4hv0Il_f-L"
      },
      "source": [
        "def print_similar_words(top_n_words,weight,msg,words_subset):\n",
        "    \n",
        "    columns=[]\n",
        "    \n",
        "    for i in range(0,len(words_subset)):\n",
        "        columns.append('similar:' +str(i+1) )\n",
        "        \n",
        "    df = pd.DataFrame(columns=columns,index=words_subset)\n",
        "    df.head()\n",
        "    \n",
        "    row = 0\n",
        "    for word in words_subset:\n",
        "        \n",
        "        #Get the similarity matrix for the word: word\n",
        "        similarity_matrix = cosine_similarity(word,weight,word_to_index,vocab_size,index_to_word)\n",
        "        col = 0\n",
        "        \n",
        "        #Sort the top_n_words\n",
        "        words_sorted = dict(sorted(similarity_matrix.items(), key=lambda x: x[1], reverse=True)[1:top_n_words+1])\n",
        "        \n",
        "        #Create a dataframe to display the similarity matrix\n",
        "        for similar_word,similarity_value in words_sorted.items():\n",
        "            df.iloc[row][col] = (similar_word,round(similarity_value,2))\n",
        "            col += 1\n",
        "        row += 1\n",
        "    styles = [dict(selector='caption', \n",
        "    props=[('text-align', 'center'),('font-size', '20px'),('color', 'red')])] \n",
        "    df = df.style.set_properties(**\n",
        "                       {'color': 'green','border-color': 'blue','font-size':'14px'}\n",
        "                      ).set_table_styles(styles).set_caption(msg)\n",
        "    return df"
      ],
      "execution_count": null,
      "outputs": []
    },
    {
      "cell_type": "markdown",
      "metadata": {
        "id": "C9Hjfezs_f-M"
      },
      "source": [
        "<h4> Plot words as scatter plot from T-Sne </h4>"
      ]
    },
    {
      "cell_type": "code",
      "metadata": {
        "id": "sZ6zKwmD_f-N"
      },
      "source": [
        "def word_similarity_scatter_plot(index_to_word,weight,plot_title,fig,axes):\n",
        "    \n",
        "    labels = []\n",
        "    tokens = []\n",
        "    \n",
        "    for key,value in index_to_word.items():\n",
        "        tokens.append(weight[key])\n",
        "        labels.append(value)\n",
        "        \n",
        "    #TSNE : Compressing the weights to 2 dimensions to plot the data\n",
        "    tsne_model = TSNE(perplexity=40, n_components=2, init='pca', n_iter=2500, random_state=23)\n",
        "    new_values = tsne_model.fit_transform(tokens)\n",
        "    \n",
        "    x = []\n",
        "    y = []\n",
        "    for value in new_values:\n",
        "        x.append(value[0])\n",
        "        y.append(value[1])\n",
        "    \n",
        "    \n",
        "    #plt.figure(figsize=(5, 5)) \n",
        "    for i in range(len(x)):\n",
        "        axes.scatter(x[i],y[i])\n",
        "        axes.annotate(labels[i],\n",
        "                     xy=(x[i], y[i]),\n",
        "                     xytext=(5, 2),\n",
        "                     textcoords='offset points',\n",
        "                     ha='right',\n",
        "                     va='bottom')\n",
        "    #plt.title(plot_title)\n",
        "    axes.set_title(plot_title, loc='center')"
      ],
      "execution_count": null,
      "outputs": []
    },
    {
      "cell_type": "markdown",
      "metadata": {
        "id": "bBFWb4yf_f-O"
      },
      "source": [
        "<h4> Epoch - loss plot </h4>"
      ]
    },
    {
      "cell_type": "code",
      "metadata": {
        "id": "ijaogclS_f-P"
      },
      "source": [
        "def plot_epoch_loss(lbl,loss_epoch,plot_title,path):\n",
        "    colors = ['b', 'g', 'r', 'c', 'm', 'y', 'k', 'w']\n",
        "    i = 0\n",
        "    fig = plt.figure(figsize=(10, 5), facecolor='w', edgecolor='k',dpi=80)\n",
        "    plt.suptitle('Epoch vs Loss',fontsize=16)\n",
        "    \n",
        "    for key,loss in loss_epoch.items():\n",
        "        \n",
        "        \n",
        "        epoch_count = range(1, len(loss) + 1)\n",
        "\n",
        "        plt.plot(epoch_count, loss, 'r-',color=colors[i],linewidth=2.0,label = lbl + str(key))\n",
        "\n",
        "        plt.xlabel('Epoch')\n",
        "        plt.ylabel('Loss')\n",
        "        i += 1\n",
        "\n",
        "    plt.legend(framealpha=1, frameon=True,fontsize='large',edgecolor=\"inherit\",shadow=True)\n",
        "    plt.title(plot_title)\n",
        "    plt.savefig(path+plot_title +'.png')\n",
        "    plt.show()\n",
        "    plt.close()   \n",
        "    "
      ],
      "execution_count": null,
      "outputs": []
    },
    {
      "cell_type": "markdown",
      "metadata": {
        "id": "lcUWvvAY_f-Q"
      },
      "source": [
        "# Analysis"
      ]
    },
    {
      "cell_type": "code",
      "metadata": {
        "colab": {
          "base_uri": "https://localhost:8080/"
        },
        "id": "LGOX9M6X-spH",
        "outputId": "4492d208-4c94-402c-a295-b97e7dd8be4e"
      },
      "source": [
        "from google.colab import drive\n",
        "drive.mount('/content/drive')"
      ],
      "execution_count": null,
      "outputs": [
        {
          "output_type": "stream",
          "text": [
            "Mounted at /content/drive\n"
          ],
          "name": "stdout"
        }
      ]
    },
    {
      "cell_type": "code",
      "metadata": {
        "id": "Lz2xPGXn_f-R"
      },
      "source": [
        "# path_to_save = 'output_images_sample_data/epoc_loss_plot/'\n",
        "# path_to_save_scatter_plot = 'output_images_sample_data/word_similarity_scatter_plot/'"
      ],
      "execution_count": null,
      "outputs": []
    },
    {
      "cell_type": "code",
      "metadata": {
        "id": "SeWAEY0iSuFs"
      },
      "source": [
        "path_to_save = 'IMAGES/epoc_loss_plot/'\n",
        "path_to_save_scatter_plot = 'IMAGES/word_similarity_scatter_plot/'"
      ],
      "execution_count": null,
      "outputs": []
    },
    {
      "cell_type": "markdown",
      "metadata": {
        "id": "dsu4jYxZ_f-S"
      },
      "source": [
        "<h4> Varying dimensions of word embedding </h4>"
      ]
    },
    {
      "cell_type": "code",
      "metadata": {
        "id": "kIWrVJv__f-T"
      },
      "source": [
        "window_size = 2\n",
        "epochs = 100\n",
        "learning_rate = 0.01\n",
        "text = ['Best way to success is through hardwork and persistence']\n",
        "\n",
        "word_to_index,index_to_word,corpus,vocab_size,length_of_corpus = generate_dictinoary_data(text)\n",
        "training_data,training_sample_words = generate_training_data(corpus,window_size,vocab_size,word_to_index,length_of_corpus)"
      ],
      "execution_count": null,
      "outputs": []
    },
    {
      "cell_type": "code",
      "metadata": {
        "scrolled": false,
        "id": "-bnm1Kkk_f-U",
        "colab": {
          "base_uri": "https://localhost:8080/",
          "height": 1000
        },
        "outputId": "a079f971-2141-4118-fa8d-6daf4e5e6964"
      },
      "source": [
        "dimensions = [5,10,15,20]\n",
        "loss_epoch = {}\n",
        "fig, axes = plt.subplots(nrows=2, ncols=2,figsize=(10,10),)\n",
        "fig.suptitle(\"Plots for showing paramaters with varying dimension\", fontsize=16)\n",
        "row=0\n",
        "col=0\n",
        "for dim in dimensions:\n",
        "    \n",
        "    epoch_loss,weights_1,weights_2 = train(dim,window_size,epochs,training_data,learning_rate)\n",
        "    loss_epoch.update( {dim: epoch_loss} )\n",
        "    \n",
        "    word_similarity_scatter_plot(\n",
        "        index_to_word,\n",
        "        weights_1[epochs -1],\n",
        "        'dimension_' + str(dim) + '_epochs_' + str(epochs) + '_window_size_' +str(window_size),\n",
        "        fig,\n",
        "        axes[row][col]\n",
        "    )\n",
        "    if col == 1:\n",
        "        row += 1\n",
        "        col = 0\n",
        "    else:\n",
        "        col += 1\n",
        "\n",
        "plt.savefig(path_to_save_scatter_plot+'varying_dim' +'.png')\n",
        "# plt.savefig('varying_dim' +'.png')        \n",
        "plt.show()\n",
        "\n",
        "plot_epoch_loss('dim:',loss_epoch,'epochs_' + str(epochs) + '_window_size_' +str(window_size),path_to_save)"
      ],
      "execution_count": null,
      "outputs": [
        {
          "output_type": "display_data",
          "data": {
            "image/png": "[encoded data removed]",
            "text/plain": [
              "<Figure size 720x720 with 4 Axes>"
            ]
          },
          "metadata": {
            "tags": [],
            "needs_background": "light"
          }
        },
        {
          "output_type": "display_data",
          "data": {
            "image/png": "[encoded data removed]",
            "text/plain": [
              "<Figure size 800x400 with 1 Axes>"
            ]
          },
          "metadata": {
            "tags": []
          }
        }
      ]
    },
    {
      "cell_type": "markdown",
      "metadata": {
        "id": "zeXj8YHI_f-W"
      },
      "source": [
        "<h4> Varying dimensions of window size </h4>"
      ]
    },
    {
      "cell_type": "code",
      "metadata": {
        "id": "WTUA_tyL_f-X"
      },
      "source": [
        "dimension = 20\n",
        "epochs = 100\n",
        "learning_rate = 0.01\n",
        "text = ['Best way to success is through hardwork and persistence']\n",
        "\n",
        "word_to_index,index_to_word,corpus,vocab_size,length_of_corpus = generate_dictinoary_data(text)"
      ],
      "execution_count": null,
      "outputs": []
    },
    {
      "cell_type": "code",
      "metadata": {
        "scrolled": false,
        "id": "ZDPAAURA_f-Y",
        "colab": {
          "base_uri": "https://localhost:8080/",
          "height": 1000
        },
        "outputId": "b51135e1-6ace-4819-c20a-1de9bf264d1a"
      },
      "source": [
        "window_size = [2,3,5,7]\n",
        "loss_epoch = {}\n",
        "fig, axes = plt.subplots(nrows=2, ncols=2,figsize=(10,10),)\n",
        "fig.suptitle(\"Plots for showing paramaters with varying window_size\", fontsize=16)\n",
        "row=0\n",
        "col=0\n",
        "for ws in window_size:\n",
        "    \n",
        "    training_data,training_sample_words = generate_training_data(corpus,ws,vocab_size,word_to_index,length_of_corpus)\n",
        "    \n",
        "    epoch_loss,weights_1,weights_2 = train(dimension,ws,epochs,training_data,learning_rate)\n",
        "    loss_epoch.update( {ws: epoch_loss} )\n",
        "    \n",
        "    word_similarity_scatter_plot(\n",
        "        index_to_word,\n",
        "        weights_1[epochs -1],\n",
        "        'dimension_20_' + '_epochs_' + str(epochs) + '_window_size_' +str(ws),\n",
        "        fig,\n",
        "        axes[row][col]\n",
        "    )\n",
        "    if col == 1:\n",
        "        row += 1\n",
        "        col = 0\n",
        "    else:\n",
        "        col += 1\n",
        "plt.savefig(path_to_save_scatter_plot+'varying_window_size' +'.png')                \n",
        "plt.show()\n",
        "plot_epoch_loss('window_size_',loss_epoch,'_epochs_' + str(epochs) + '_dimension_20' ,path_to_save)"
      ],
      "execution_count": null,
      "outputs": [
        {
          "output_type": "display_data",
          "data": {
            "image/png": "[encoded data removed]",
            "text/plain": [
              "<Figure size 720x720 with 4 Axes>"
            ]
          },
          "metadata": {
            "tags": [],
            "needs_background": "light"
          }
        },
        {
          "output_type": "display_data",
          "data": {
            "image/png": "[encoded data removed]",
            "text/plain": [
              "<Figure size 800x400 with 1 Axes>"
            ]
          },
          "metadata": {
            "tags": []
          }
        }
      ]
    },
    {
      "cell_type": "markdown",
      "metadata": {
        "id": "mHLtS8gX_f-a"
      },
      "source": [
        "<h4> Varying epochs </h4>"
      ]
    },
    {
      "cell_type": "code",
      "metadata": {
        "id": "mFKl3yWT_f-a"
      },
      "source": [
        "window_size = 2\n",
        "dimension = 20\n",
        "learning_rate = 0.01\n",
        "text = ['Best way to success is through hardwork and persistence']\n",
        "\n",
        "word_to_index,index_to_word,corpus,vocab_size,length_of_corpus = generate_dictinoary_data(text)\n",
        "training_data,training_sample_words = generate_training_data(corpus,window_size,vocab_size,word_to_index,length_of_corpus)"
      ],
      "execution_count": null,
      "outputs": []
    },
    {
      "cell_type": "code",
      "metadata": {
        "scrolled": false,
        "id": "uTlB19Bm_f-b",
        "colab": {
          "base_uri": "https://localhost:8080/",
          "height": 1000
        },
        "outputId": "4175fd54-0b40-4f4e-8186-3ca96c953975"
      },
      "source": [
        "epochs = [100,200,300,400]\n",
        "loss_epoch = {}\n",
        "fig, axes = plt.subplots(nrows=2, ncols=2,figsize=(10,10),)\n",
        "fig.suptitle(\"Plots for showing paramaters with varying epochs\", fontsize=16)\n",
        "row=0\n",
        "col=0\n",
        "for epoch in epochs:\n",
        "    \n",
        "    epoch_loss,weights_1,weights_2 = train(dimension,window_size,epoch,training_data,learning_rate)\n",
        "    loss_epoch.update( {epoch: epoch_loss} )\n",
        "    \n",
        "    word_similarity_scatter_plot(\n",
        "        index_to_word,\n",
        "        weights_1[epoch -1],\n",
        "        'dimension_' + str(dimension) + '_epochs_' + str(epoch) + '_window_size_' +str(window_size),\n",
        "        fig,\n",
        "        axes[row][col]\n",
        "    )\n",
        "    if col == 1:\n",
        "        row += 1\n",
        "        col = 0\n",
        "    else:\n",
        "        col += 1\n",
        "plt.savefig(path_to_save_scatter_plot+'varying_epochs' +'.png')                \n",
        "plt.show()\n",
        "plot_epoch_loss('epochs_',loss_epoch,'dimension_' + str(dimension) + '_window_size_' +str(window_size),path_to_save)"
      ],
      "execution_count": null,
      "outputs": [
        {
          "output_type": "display_data",
          "data": {
            "image/png": "[encoded data removed]",
            "text/plain": [
              "<Figure size 720x720 with 4 Axes>"
            ]
          },
          "metadata": {
            "tags": [],
            "needs_background": "light"
          }
        },
        {
          "output_type": "display_data",
          "data": {
            "image/png": "[encoded data removed]",
            "text/plain": [
              "<Figure size 800x400 with 1 Axes>"
            ]
          },
          "metadata": {
            "tags": []
          }
        }
      ]
    },
    {
      "cell_type": "markdown",
      "metadata": {
        "id": "bdZ6G9Qw_f-d"
      },
      "source": [
        "<h4> Bigger Corpus </h4>"
      ]
    },
    {
      "cell_type": "code",
      "metadata": {
        "id": "7QYAwFmd_f-e"
      },
      "source": [
        "path_to_save = 'IMAGES/epoc_loss_plot/'\n",
        "path_to_save_scatter_plot = 'IMAGES/word_similarity_scatter_plot/'"
      ],
      "execution_count": null,
      "outputs": []
    },
    {
      "cell_type": "code",
      "metadata": {
        "id": "MaFBQbDP_f-f"
      },
      "source": [
        "def word_similarity_scatter_plot_bigger_corpus(index_to_word,weight,plot_title,path):\n",
        "    \n",
        "    labels = []\n",
        "    tokens = []\n",
        "    \n",
        "    for key,value in index_to_word.items():\n",
        "        tokens.append(weight[key])\n",
        "        labels.append(value)\n",
        "        \n",
        "    tsne_model = TSNE(perplexity=40, n_components=2, init='pca', n_iter=2500, random_state=23)\n",
        "    new_values = tsne_model.fit_transform(tokens)\n",
        "    \n",
        "    x = []\n",
        "    y = []\n",
        "    for value in new_values:\n",
        "        x.append(value[0])\n",
        "        y.append(value[1])\n",
        "    \n",
        "    x = x[0:200]\n",
        "    y = y[0:200]\n",
        "    \n",
        "    plt.figure(figsize=(20, 30)) \n",
        "\n",
        "    for i in range(len(x)):\n",
        "        plt.scatter(x[i],y[i])\n",
        "        plt.annotate(labels[i],\n",
        "                     xy=(x[i], y[i]),\n",
        "                     xytext=(5, 2),\n",
        "                     textcoords='offset points',\n",
        "                     ha='right',\n",
        "                     va='bottom',\n",
        "                    family='fantasy')\n",
        "    plt.title(plot_title)\n",
        "    plt.savefig(path+plot_title +'.png')\n",
        "    plt.close()   "
      ],
      "execution_count": null,
      "outputs": []
    },
    {
      "cell_type": "markdown",
      "metadata": {
        "id": "JOg0VVqi_f-g"
      },
      "source": [
        "<h4>1. Stop words effect<h4>"
      ]
    },
    {
      "cell_type": "code",
      "metadata": {
        "id": "nkwyK5eH_f-h"
      },
      "source": [
        "epochs = 200\n",
        "top_n_words = 5\n",
        "dimension = 50\n",
        "window_size = 2\n",
        "learning_rate = 0.01\n",
        "\n"
      ],
      "execution_count": null,
      "outputs": []
    },
    {
      "cell_type": "markdown",
      "metadata": {
        "id": "mWPUQrV9_f-i"
      },
      "source": [
        "<h4>Without stopwords </h4>"
      ]
    },
    {
      "cell_type": "code",
      "metadata": {
        "id": "lHw_Db1S_f-j",
        "colab": {
          "base_uri": "https://localhost:8080/"
        },
        "outputId": "8713d1bc-6c76-4656-ced2-5e9ca144c756"
      },
      "source": [
        "# text = get_file_data('yes')\n",
        "word_to_index,index_to_word,corpus,vocab_size,length_of_corpus = generate_dictinoary_data(text_og)\n",
        "training_data,training_sample_words = generate_training_data(corpus,window_size,vocab_size,word_to_index,length_of_corpus)\n",
        "print('Number of unique words:' , vocab_size)\n",
        "print('Length of corpus :',length_of_corpus)\n",
        "words_subset = []\n",
        "words_subset = np.random.choice(list(word_to_index.keys()),top_n_words)\n",
        "print(words_subset)"
      ],
      "execution_count": null,
      "outputs": [
        {
          "output_type": "stream",
          "text": [
            "Number of unique words: 5107\n",
            "Length of corpus : 13604\n",
            "['october' 'ennium' 'jebel' 'wakeless' 'prof']\n"
          ],
          "name": "stdout"
        }
      ]
    },
    {
      "cell_type": "code",
      "metadata": {
        "id": "3pyjW5cv_f-k",
        "colab": {
          "base_uri": "https://localhost:8080/",
          "height": 425
        },
        "outputId": "7fcd997b-60f6-46b0-b79a-a88d0b64a068"
      },
      "source": [
        "loss_epoch = {}\n",
        "dataframe_sim = []\n",
        "\n",
        "epoch_loss,weights_1,weights_2 = train(dimension,window_size,epochs,training_data,learning_rate,'yes',50)\n",
        "loss_epoch.update( {'yes': epoch_loss} )\n",
        "\n",
        "word_similarity_scatter_plot_bigger_corpus(\n",
        "    index_to_word,\n",
        "    weights_1[epochs -1],\n",
        "    'Stopwords_removed_dimension_' + str(dimension) + '_epochs_' + str(epochs) + '_window_size_' +str(window_size),\n",
        "    path_to_save_scatter_plot\n",
        ")\n",
        "\n",
        "df = print_similar_words(\n",
        "    top_n_words,\n",
        "    weights_1[epochs - 1],\n",
        "    'sim_matrix for : Stopwords_removed_dimension_' + str(dimension) + '_epochs_' + str(epochs) + '_window_size_' +str(window_size),\n",
        "    words_subset\n",
        ")\n",
        "dataframe_sim.append(df)\n",
        "\n",
        "plot_epoch_loss(\n",
        "    'Stopwords_removed_',\n",
        "    loss_epoch,\n",
        "    'Without_Stopwords_epochs_' + str(epochs) + '_window_size_' +str(window_size),\n",
        "    path_to_save\n",
        ")"
      ],
      "execution_count": null,
      "outputs": [
        {
          "output_type": "stream",
          "text": [
            "Epoch: 0. Loss:570989.715610663\n"
          ],
          "name": "stdout"
        },
        {
          "output_type": "error",
          "ename": "KeyboardInterrupt",
          "evalue": "ignored",
          "traceback": [
            "\u001b[0;31m---------------------------------------------------------------------------\u001b[0m",
            "\u001b[0;31mKeyboardInterrupt\u001b[0m                         Traceback (most recent call last)",
            "\u001b[0;32m<ipython-input-56-36812d2511dc>\u001b[0m in \u001b[0;36m<module>\u001b[0;34m()\u001b[0m\n\u001b[1;32m      2\u001b[0m \u001b[0mdataframe_sim\u001b[0m \u001b[0;34m=\u001b[0m \u001b[0;34m[\u001b[0m\u001b[0;34m]\u001b[0m\u001b[0;34m\u001b[0m\u001b[0;34m\u001b[0m\u001b[0m\n\u001b[1;32m      3\u001b[0m \u001b[0;34m\u001b[0m\u001b[0m\n\u001b[0;32m----> 4\u001b[0;31m \u001b[0mepoch_loss\u001b[0m\u001b[0;34m,\u001b[0m\u001b[0mweights_1\u001b[0m\u001b[0;34m,\u001b[0m\u001b[0mweights_2\u001b[0m \u001b[0;34m=\u001b[0m \u001b[0mtrain\u001b[0m\u001b[0;34m(\u001b[0m\u001b[0mdimension\u001b[0m\u001b[0;34m,\u001b[0m\u001b[0mwindow_size\u001b[0m\u001b[0;34m,\u001b[0m\u001b[0mepochs\u001b[0m\u001b[0;34m,\u001b[0m\u001b[0mtraining_data\u001b[0m\u001b[0;34m,\u001b[0m\u001b[0mlearning_rate\u001b[0m\u001b[0;34m,\u001b[0m\u001b[0;34m'yes'\u001b[0m\u001b[0;34m,\u001b[0m\u001b[0;36m50\u001b[0m\u001b[0;34m)\u001b[0m\u001b[0;34m\u001b[0m\u001b[0;34m\u001b[0m\u001b[0m\n\u001b[0m\u001b[1;32m      5\u001b[0m \u001b[0mloss_epoch\u001b[0m\u001b[0;34m.\u001b[0m\u001b[0mupdate\u001b[0m\u001b[0;34m(\u001b[0m \u001b[0;34m{\u001b[0m\u001b[0;34m'yes'\u001b[0m\u001b[0;34m:\u001b[0m \u001b[0mepoch_loss\u001b[0m\u001b[0;34m}\u001b[0m \u001b[0;34m)\u001b[0m\u001b[0;34m\u001b[0m\u001b[0;34m\u001b[0m\u001b[0m\n\u001b[1;32m      6\u001b[0m \u001b[0;34m\u001b[0m\u001b[0m\n",
            "\u001b[0;32m<ipython-input-39-9c43d85cd328>\u001b[0m in \u001b[0;36mtrain\u001b[0;34m(word_embedding_dimension, window_size, epochs, training_data, learning_rate, disp, interval)\u001b[0m\n\u001b[1;32m     14\u001b[0m \u001b[0;34m\u001b[0m\u001b[0m\n\u001b[1;32m     15\u001b[0m         \u001b[0;32mfor\u001b[0m \u001b[0mtarget\u001b[0m\u001b[0;34m,\u001b[0m\u001b[0mcontext\u001b[0m \u001b[0;32min\u001b[0m \u001b[0mtraining_data\u001b[0m\u001b[0;34m:\u001b[0m\u001b[0;34m\u001b[0m\u001b[0;34m\u001b[0m\u001b[0m\n\u001b[0;32m---> 16\u001b[0;31m             \u001b[0my_pred\u001b[0m\u001b[0;34m,\u001b[0m \u001b[0mhidden_layer\u001b[0m\u001b[0;34m,\u001b[0m \u001b[0mu\u001b[0m \u001b[0;34m=\u001b[0m \u001b[0mforward_prop\u001b[0m\u001b[0;34m(\u001b[0m\u001b[0mweights_input_hidden\u001b[0m\u001b[0;34m,\u001b[0m\u001b[0mweights_hidden_output\u001b[0m\u001b[0;34m,\u001b[0m\u001b[0mtarget\u001b[0m\u001b[0;34m)\u001b[0m\u001b[0;34m\u001b[0m\u001b[0;34m\u001b[0m\u001b[0m\n\u001b[0m\u001b[1;32m     17\u001b[0m \u001b[0;34m\u001b[0m\u001b[0m\n\u001b[1;32m     18\u001b[0m             \u001b[0mtotal_error\u001b[0m \u001b[0;34m=\u001b[0m \u001b[0mcalculate_error\u001b[0m\u001b[0;34m(\u001b[0m\u001b[0my_pred\u001b[0m\u001b[0;34m,\u001b[0m \u001b[0mcontext\u001b[0m\u001b[0;34m)\u001b[0m\u001b[0;34m\u001b[0m\u001b[0;34m\u001b[0m\u001b[0m\n",
            "\u001b[0;32m<ipython-input-35-ae8ce8391b34>\u001b[0m in \u001b[0;36mforward_prop\u001b[0;34m(weight_inp_hidden, weight_hidden_output, target_word_vector)\u001b[0m\n\u001b[1;32m      2\u001b[0m \u001b[0;34m\u001b[0m\u001b[0m\n\u001b[1;32m      3\u001b[0m     \u001b[0;31m#target_word_vector = x , weight_inp_hidden =  weights for input layer to hidden layer\u001b[0m\u001b[0;34m\u001b[0m\u001b[0;34m\u001b[0m\u001b[0;34m\u001b[0m\u001b[0m\n\u001b[0;32m----> 4\u001b[0;31m     \u001b[0mhidden_layer\u001b[0m \u001b[0;34m=\u001b[0m \u001b[0mnp\u001b[0m\u001b[0;34m.\u001b[0m\u001b[0mdot\u001b[0m\u001b[0;34m(\u001b[0m\u001b[0mweight_inp_hidden\u001b[0m\u001b[0;34m.\u001b[0m\u001b[0mT\u001b[0m\u001b[0;34m,\u001b[0m \u001b[0mtarget_word_vector\u001b[0m\u001b[0;34m)\u001b[0m\u001b[0;34m\u001b[0m\u001b[0;34m\u001b[0m\u001b[0m\n\u001b[0m\u001b[1;32m      5\u001b[0m \u001b[0;34m\u001b[0m\u001b[0m\n\u001b[1;32m      6\u001b[0m     \u001b[0;31m#weight_hidden_output = weights for hidden layer to output layer\u001b[0m\u001b[0;34m\u001b[0m\u001b[0;34m\u001b[0m\u001b[0;34m\u001b[0m\u001b[0m\n",
            "\u001b[0;32m<__array_function__ internals>\u001b[0m in \u001b[0;36mdot\u001b[0;34m(*args, **kwargs)\u001b[0m\n",
            "\u001b[0;31mKeyboardInterrupt\u001b[0m: "
          ]
        }
      ]
    },
    {
      "cell_type": "markdown",
      "metadata": {
        "id": "eKMsbb0Y_f-m"
      },
      "source": [
        "Similarity matrix"
      ]
    },
    {
      "cell_type": "code",
      "metadata": {
        "id": "serz9e26_f-n"
      },
      "source": [
        "for i in range(len(dataframe_sim)):\n",
        "    display(dataframe_sim[i])"
      ],
      "execution_count": null,
      "outputs": []
    },
    {
      "cell_type": "markdown",
      "metadata": {
        "id": "wtzqDh61_f-o"
      },
      "source": [
        "<h4>With stopwords </h4>"
      ]
    },
    {
      "cell_type": "code",
      "metadata": {
        "id": "Q5yzRRDn_f-p",
        "colab": {
          "base_uri": "https://localhost:8080/",
          "height": 248
        },
        "outputId": "4c04dff3-b15e-447e-8002-bcc26ca70cc9"
      },
      "source": [
        "text = get_file_data()\n",
        "word_to_index,index_to_word,corpus,vocab_size,length_of_corpus = generate_dictinoary_data(text)\n",
        "training_data,training_sample_words = generate_training_data(corpus,window_size,vocab_size,word_to_index,length_of_corpus)\n",
        "print('Number of unique words:' , vocab_size)\n",
        "print('Length of corpus :',length_of_corpus)"
      ],
      "execution_count": null,
      "outputs": [
        {
          "output_type": "error",
          "ename": "NameError",
          "evalue": "ignored",
          "traceback": [
            "\u001b[0;31m---------------------------------------------------------------------------\u001b[0m",
            "\u001b[0;31mNameError\u001b[0m                                 Traceback (most recent call last)",
            "\u001b[0;32m<ipython-input-59-b259b0e0f014>\u001b[0m in \u001b[0;36m<module>\u001b[0;34m()\u001b[0m\n\u001b[0;32m----> 1\u001b[0;31m \u001b[0mtext\u001b[0m \u001b[0;34m=\u001b[0m \u001b[0mget_file_data\u001b[0m\u001b[0;34m(\u001b[0m\u001b[0;34m)\u001b[0m\u001b[0;34m\u001b[0m\u001b[0;34m\u001b[0m\u001b[0m\n\u001b[0m\u001b[1;32m      2\u001b[0m \u001b[0mword_to_index\u001b[0m\u001b[0;34m,\u001b[0m\u001b[0mindex_to_word\u001b[0m\u001b[0;34m,\u001b[0m\u001b[0mcorpus\u001b[0m\u001b[0;34m,\u001b[0m\u001b[0mvocab_size\u001b[0m\u001b[0;34m,\u001b[0m\u001b[0mlength_of_corpus\u001b[0m \u001b[0;34m=\u001b[0m \u001b[0mgenerate_dictinoary_data\u001b[0m\u001b[0;34m(\u001b[0m\u001b[0mtext\u001b[0m\u001b[0;34m)\u001b[0m\u001b[0;34m\u001b[0m\u001b[0;34m\u001b[0m\u001b[0m\n\u001b[1;32m      3\u001b[0m \u001b[0mtraining_data\u001b[0m\u001b[0;34m,\u001b[0m\u001b[0mtraining_sample_words\u001b[0m \u001b[0;34m=\u001b[0m \u001b[0mgenerate_training_data\u001b[0m\u001b[0;34m(\u001b[0m\u001b[0mcorpus\u001b[0m\u001b[0;34m,\u001b[0m\u001b[0mwindow_size\u001b[0m\u001b[0;34m,\u001b[0m\u001b[0mvocab_size\u001b[0m\u001b[0;34m,\u001b[0m\u001b[0mword_to_index\u001b[0m\u001b[0;34m,\u001b[0m\u001b[0mlength_of_corpus\u001b[0m\u001b[0;34m)\u001b[0m\u001b[0;34m\u001b[0m\u001b[0;34m\u001b[0m\u001b[0m\n\u001b[1;32m      4\u001b[0m \u001b[0mprint\u001b[0m\u001b[0;34m(\u001b[0m\u001b[0;34m'Number of unique words:'\u001b[0m \u001b[0;34m,\u001b[0m \u001b[0mvocab_size\u001b[0m\u001b[0;34m)\u001b[0m\u001b[0;34m\u001b[0m\u001b[0;34m\u001b[0m\u001b[0m\n\u001b[1;32m      5\u001b[0m \u001b[0mprint\u001b[0m\u001b[0;34m(\u001b[0m\u001b[0;34m'Length of corpus :'\u001b[0m\u001b[0;34m,\u001b[0m\u001b[0mlength_of_corpus\u001b[0m\u001b[0;34m)\u001b[0m\u001b[0;34m\u001b[0m\u001b[0;34m\u001b[0m\u001b[0m\n",
            "\u001b[0;31mNameError\u001b[0m: name 'get_file_data' is not defined"
          ]
        }
      ]
    },
    {
      "cell_type": "code",
      "metadata": {
        "id": "TL-SPGWs_f-q"
      },
      "source": [
        "loss_epoch = {}\n",
        "dataframe_sim = []\n",
        "\n",
        "epoch_loss,weights_1,weights_2 = train(dimension,window_size,epochs,training_data,learning_rate,'yes',50)\n",
        "loss_epoch.update( {'no': epoch_loss} )\n",
        "\n",
        "word_similarity_scatter_plot_bigger_corpus(\n",
        "    index_to_word,\n",
        "    weights_1[epochs -1],\n",
        "    'Stopwords_not_removed_dimension_' + str(dimension) + '_epochs_' + str(epochs) + '_window_size_' +str(window_size),\n",
        "    path_to_save_scatter_plot\n",
        ")\n",
        "\n",
        "df = print_similar_words(\n",
        "    top_n_words,\n",
        "    weights_1[epochs - 1],\n",
        "    'sim_matrix for : Stopwords_not_removed_dimension_' + str(dimension) + '_epochs_' + str(epochs) + '_window_size_' +str(window_size),\n",
        "    words_subset\n",
        ")\n",
        "dataframe_sim.append(df)\n",
        "plot_epoch_loss(\n",
        "    'Stopwords_removed_',\n",
        "    loss_epoch,\n",
        "    'With_Stopwords_epochs_' + str(epochs) + '_window_size_' +str(window_size),\n",
        "    path_to_save\n",
        ")"
      ],
      "execution_count": null,
      "outputs": []
    },
    {
      "cell_type": "markdown",
      "metadata": {
        "id": "7nKvBPFj_f-s"
      },
      "source": [
        "Similarity matrix"
      ]
    },
    {
      "cell_type": "code",
      "metadata": {
        "scrolled": true,
        "id": "SXklDvQ5_f-t"
      },
      "source": [
        "for i in range(len(dataframe_sim)):\n",
        "    display(dataframe_sim[i])"
      ],
      "execution_count": null,
      "outputs": []
    },
    {
      "cell_type": "markdown",
      "metadata": {
        "id": "ij0XlnDC_f-u"
      },
      "source": [
        "<h4> For further variations we will be removing stopwords </h4>"
      ]
    },
    {
      "cell_type": "code",
      "metadata": {
        "id": "rs4ea-xJ_f-v"
      },
      "source": [
        "epochs = 200\n",
        "top_n_words = 5\n",
        "learning_rate = 0.01"
      ],
      "execution_count": null,
      "outputs": []
    },
    {
      "cell_type": "code",
      "metadata": {
        "id": "94kpVbJf_f-w"
      },
      "source": [
        "text = get_file_data('yes')\n",
        "word_to_index,index_to_word,corpus,vocab_size,length_of_corpus = generate_dictinoary_data(text)\n",
        "print('Number of unique words:' , vocab_size)\n",
        "print('Length of corpus :',length_of_corpus)\n",
        "words_subset = []\n",
        "words_subset = np.random.choice(list(word_to_index.keys()),top_n_words)\n",
        "print(words_subset)"
      ],
      "execution_count": null,
      "outputs": []
    },
    {
      "cell_type": "markdown",
      "metadata": {
        "id": "eHVrLUl-_f-x"
      },
      "source": [
        "<h4>2. Varying dimensions of word embedding </h4>"
      ]
    },
    {
      "cell_type": "code",
      "metadata": {
        "id": "IlJDITPR_f-y"
      },
      "source": [
        "window_size = 2\n",
        "training_data,training_sample_words = generate_training_data(corpus,window_size,vocab_size,word_to_index,length_of_corpus)"
      ],
      "execution_count": null,
      "outputs": []
    },
    {
      "cell_type": "code",
      "metadata": {
        "scrolled": true,
        "id": "UvBoVJgh_f-z"
      },
      "source": [
        "dimensions = [10,30,50,70,90]\n",
        "loss_epoch = {}\n",
        "dataframe_sim = []\n",
        "for dim in dimensions:\n",
        "    print('Running for dimension :' ,dim)\n",
        "    \n",
        "    epoch_loss,weights_1,weights_2 = train(dim,window_size,epochs,training_data,learning_rate,'yes',50)\n",
        "    loss_epoch.update( {dim: epoch_loss} )\n",
        "    \n",
        "    word_similarity_scatter_plot_bigger_corpus(\n",
        "        index_to_word,\n",
        "        weights_1[epochs -1],\n",
        "        'varying_dimension_' + str(dim) + '_epochs_' + str(epochs) + '_window_size_' +str(window_size),\n",
        "        path_to_save_scatter_plot\n",
        "    )\n",
        "    \n",
        "    df = print_similar_words(\n",
        "        top_n_words,\n",
        "        weights_1[epochs - 1],\n",
        "        'sim_matrix for : dimension_' + str(dim) + '_epochs_' + str(epochs) + '_window_size_' +str(window_size),\n",
        "        words_subset\n",
        "    )\n",
        "    dataframe_sim.append(df)\n",
        "    \n",
        "plot_epoch_loss(\n",
        "    'dim:',\n",
        "    loss_epoch,\n",
        "    'epochs_' + str(epochs) + '_window_size_' +str(window_size),\n",
        "    path_to_save\n",
        ")"
      ],
      "execution_count": null,
      "outputs": []
    },
    {
      "cell_type": "markdown",
      "metadata": {
        "id": "dB6kitoL_f-0"
      },
      "source": [
        "Similarity matrix"
      ]
    },
    {
      "cell_type": "code",
      "metadata": {
        "scrolled": true,
        "id": "_P4sT5Pd_f-1"
      },
      "source": [
        "for i in range(len(dataframe_sim)):\n",
        "    display(dataframe_sim[i])"
      ],
      "execution_count": null,
      "outputs": []
    },
    {
      "cell_type": "markdown",
      "metadata": {
        "id": "3nNkHyyM_f-3"
      },
      "source": [
        "<h4>3. Varying window size </h4>"
      ]
    },
    {
      "cell_type": "code",
      "metadata": {
        "id": "0rhVW3_M_f-4"
      },
      "source": [
        "dimension = 70\n",
        "learning_rate = 0.01"
      ],
      "execution_count": null,
      "outputs": []
    },
    {
      "cell_type": "code",
      "metadata": {
        "scrolled": true,
        "id": "q1XwcyMm_f-4"
      },
      "source": [
        "window_size = [2,5,7,9,12]\n",
        "loss_epoch = {}\n",
        "dataframe_sim = []\n",
        "for ws in window_size:\n",
        "    print('Running for window_size :' ,ws)\n",
        "    \n",
        "    training_data,training_sample_words = generate_training_data(corpus,ws,vocab_size,word_to_index,length_of_corpus)\n",
        "    \n",
        "    epoch_loss,weights_1,weights_2 = train(dimension,ws,epochs,training_data,learning_rate,'yes',50)\n",
        "    loss_epoch.update( {ws: epoch_loss} )\n",
        "    \n",
        "    word_similarity_scatter_plot_bigger_corpus(\n",
        "        index_to_word,\n",
        "        weights_1[epochs -1],\n",
        "        'varuing_window_size_' + str(ws) + '_epochs_' + str(epochs) + 'dimension_' +str(dimension),\n",
        "        path_to_save_scatter_plot\n",
        "    )\n",
        "    \n",
        "    df = print_similar_words(\n",
        "        top_n_words,\n",
        "        weights_1[epochs - 1],\n",
        "        'sim_matrix for : dimension_' + str(dimension) + '_epochs_' + str(epochs) + '_window_size_' +str(ws),\n",
        "        words_subset\n",
        "    )\n",
        "    dataframe_sim.append(df)\n",
        "    \n",
        "plot_epoch_loss(\n",
        "    'window_size:',\n",
        "    loss_epoch,\n",
        "    'epochs_' + str(epochs) + '_dimension_' +str(dimension),\n",
        "    path_to_save\n",
        ")"
      ],
      "execution_count": null,
      "outputs": []
    },
    {
      "cell_type": "markdown",
      "metadata": {
        "id": "e6Yw5tOF_f-6"
      },
      "source": [
        "Similarity matrix"
      ]
    },
    {
      "cell_type": "code",
      "metadata": {
        "id": "DhCic5Xr_f-7"
      },
      "source": [
        "for i in range(len(dataframe_sim)):\n",
        "    display(dataframe_sim[i])"
      ],
      "execution_count": null,
      "outputs": []
    },
    {
      "cell_type": "markdown",
      "metadata": {
        "id": "9C0yoibF_f-8"
      },
      "source": [
        "<h4> Final training with dimension = 70 , window_size = 2 , epochs = 1000 </h4>"
      ]
    },
    {
      "cell_type": "code",
      "metadata": {
        "id": "XEsirzMs_f-9"
      },
      "source": [
        "print(words_subset)\n",
        "window_size = 2\n",
        "dimension = 70\n",
        "epochs = 1000"
      ],
      "execution_count": null,
      "outputs": []
    },
    {
      "cell_type": "code",
      "metadata": {
        "id": "QiQgeg9X_f--"
      },
      "source": [
        "training_data,training_sample_words = generate_training_data(corpus,window_size,vocab_size,word_to_index,length_of_corpus)"
      ],
      "execution_count": null,
      "outputs": []
    },
    {
      "cell_type": "code",
      "metadata": {
        "scrolled": true,
        "id": "6kMDwo_W_f-_"
      },
      "source": [
        "loss_epoch = {}\n",
        "dataframe_sim = []\n",
        "    \n",
        "epoch_loss,weights_1,weights_2 = train(dim,window_size,epochs,training_data,learning_rate,'yes',200)\n",
        "loss_epoch.update( {'': epoch_loss} )\n",
        "\n",
        "word_similarity_scatter_plot_bigger_corpus(\n",
        "    index_to_word,\n",
        "    weights_1[epochs -1],\n",
        "    'dimension_' + str(dimension) + '_epochs_' + str(epochs) + '_window_size_' +str(window_size),\n",
        "    'final_training_scatter_plot_'\n",
        ")\n",
        "\n",
        "df = print_similar_words(\n",
        "    top_n_words,\n",
        "    weights_1[epochs - 1],\n",
        "    'sim_matrix for : dimension_' + str(dimension) + '_epochs_' + str(epochs) + '_window_size_' +str(window_size),\n",
        "    words_subset\n",
        ")\n",
        "dataframe_sim.append(df)\n",
        "\n",
        "plot_epoch_loss(\n",
        "    'Final_training',\n",
        "    loss_epoch,\n",
        "    ' epochs_' + str(epochs) + '_window_size_' +str(window_size) + '_dimension_' +str(dimension),\n",
        "    'final_training_epoch_loss_plot_'\n",
        ")"
      ],
      "execution_count": null,
      "outputs": []
    },
    {
      "cell_type": "code",
      "metadata": {
        "id": "5VhhDakA_f_B"
      },
      "source": [
        "for i in range(len(dataframe_sim)):\n",
        "    display(dataframe_sim[i])"
      ],
      "execution_count": null,
      "outputs": []
    }
  ]
}