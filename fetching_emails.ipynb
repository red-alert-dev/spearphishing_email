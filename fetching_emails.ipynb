{
 "cells": [
  {
   "cell_type": "code",
   "execution_count": 2,
   "metadata": {},
   "outputs": [],
   "source": [
    "import pandas as pd\n",
    "import numpy as np\n",
    "from matplotlib import pyplot as plt\n",
    "import os\n",
    "import imaplib,email"
   ]
  },
  {
   "cell_type": "code",
   "execution_count": 3,
   "metadata": {},
   "outputs": [],
   "source": [
    "user=\"rishabhgoyal1499@gmail.com\"\n",
    "password = \"Vi$hwaYuddh@2\"\n",
    "\n",
    "imap_url=\"imap.gmail.com\""
   ]
  },
  {
   "cell_type": "code",
   "execution_count": 8,
   "metadata": {},
   "outputs": [
    {
     "name": "stdout",
     "output_type": "stream",
     "text": [
      "logging in as : rishabhgoyal1499@gmail.com\n",
      "password is : Vi$hwaYuddh@2\n"
     ]
    },
    {
     "data": {
      "text/plain": [
       "('OK', [b'rishabhgoyal1499@gmail.com authenticated (Success)'])"
      ]
     },
     "execution_count": 8,
     "metadata": {},
     "output_type": "execute_result"
    }
   ],
   "source": [
    "# config=configparser.ConfigParser()\n",
    "# config.read([os.path.expanduser('config.ini')])\n",
    "\n",
    "# imapsession=imaplib.IMAP4_SSL('imap.cdac.in')\n",
    "imapsession = imaplib.IMAP4_SSL('imap.gmail.com')\n",
    "# imapSession = imaplib.IMAP4('10.228.12.95','143')\n",
    "\n",
    "# username=config.get('account','username')\n",
    "# password=config.get('account','password')\n",
    "\n",
    "print(\"logging in as :\",user)\n",
    "print(\"password is :\",password)\n",
    "imapsession.login(user,password)"
   ]
  },
  {
   "cell_type": "code",
   "execution_count": 9,
   "metadata": {},
   "outputs": [],
   "source": [
    "def get_body(msg):\n",
    "    if msg.is_multipart():\n",
    "        return get_body(msg.get_payload(0))\n",
    "    else:\n",
    "        return msg.get_payload(None,True)"
   ]
  },
  {
   "cell_type": "code",
   "execution_count": 10,
   "metadata": {},
   "outputs": [],
   "source": [
    "# Function to search for a key value pair  \n",
    "def search(key, value, con):  \n",
    "    result, data = con.search(None, key, '\"{}\"'.format(value)) \n",
    "    return data \n",
    "  \n",
    "# Function to get the list of emails under this label \n",
    "def get_emails(result_bytes): \n",
    "    msgs = [] # all the email data are pushed inside an array \n",
    "    for num in result_bytes[0].split(): \n",
    "        typ, data = con.fetch(num, '(RFC822)') \n",
    "        msgs.append(data) \n",
    "  \n",
    "    return msgs "
   ]
  },
  {
   "cell_type": "code",
   "execution_count": 16,
   "metadata": {},
   "outputs": [
    {
     "name": "stdout",
     "output_type": "stream",
     "text": [
      "[]\n"
     ]
    }
   ],
   "source": [
    "# con = imaplib.IMAP4_SSL(imap_url)  \n",
    "  \n",
    "# logging the user in \n",
    "# con.login(user, password)  \n",
    "  \n",
    "# calling function to check for email under this label \n",
    "imapsession.select('Inbox')  \n",
    "  \n",
    " # fetching emails from this user \"tu**h*****1@gmail.com\" \n",
    "msgs = get_emails(search('FROM', 'MY_ANOTHER_GMAIL_ADDRESS', imapsession)) \n",
    "print(msgs)"
   ]
  },
  {
   "cell_type": "code",
   "execution_count": 13,
   "metadata": {},
   "outputs": [],
   "source": [
    "# printing them by the order they are displayed in your gmail  \n",
    "for msg in msgs[::-1]:  \n",
    "    for sent in msg: \n",
    "        if type(sent) is tuple:  \n",
    "  \n",
    "            # encoding set as utf-8 \n",
    "            content = str(sent[1], 'utf-8')  \n",
    "            data = str(content) \n",
    "  \n",
    "            # Handling errors related to unicodenecode \n",
    "            try:  \n",
    "                indexstart = data.find(\"ltr\") \n",
    "                data2 = data[indexstart + 5: len(data)] \n",
    "                indexend = data2.find(\"</div>\") \n",
    "  \n",
    "                # printtng the required content which we need \n",
    "                # to extract from our email i.e our body \n",
    "                print(data2[0: indexend]) \n",
    "  \n",
    "            except UnicodeEncodeError as e: \n",
    "                pass"
   ]
  },
  {
   "cell_type": "code",
   "execution_count": null,
   "metadata": {},
   "outputs": [],
   "source": []
  }
 ],
 "metadata": {
  "kernelspec": {
   "display_name": "Python 3",
   "language": "python",
   "name": "python3"
  },
  "language_info": {
   "codemirror_mode": {
    "name": "ipython",
    "version": 3
   },
   "file_extension": ".py",
   "mimetype": "text/x-python",
   "name": "python",
   "nbconvert_exporter": "python",
   "pygments_lexer": "ipython3",
   "version": "3.7.3"
  }
 },
 "nbformat": 4,
 "nbformat_minor": 2
}
